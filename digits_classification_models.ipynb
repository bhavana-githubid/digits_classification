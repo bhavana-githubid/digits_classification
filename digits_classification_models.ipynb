{
  "nbformat": 4,
  "nbformat_minor": 0,
  "metadata": {
    "colab": {
      "provenance": []
    },
    "kernelspec": {
      "name": "python3",
      "display_name": "Python 3"
    },
    "language_info": {
      "name": "python"
    }
  },
  "cells": [
    {
      "cell_type": "code",
      "execution_count": 1,
      "metadata": {
        "id": "LXdbPPFBmSDq"
      },
      "outputs": [],
      "source": [
        "import pandas as pd\n",
        "from sklearn.datasets import load_digits\n",
        "from sklearn.model_selection import train_test_split\n",
        "\n",
        "# Load digits dataset\n",
        "digits = load_digits()\n",
        "\n",
        "# Create DataFrame\n",
        "df = pd.DataFrame(digits.data)\n",
        "df['target'] = digits.target\n",
        "\n",
        "# Prepare data\n",
        "X = df.drop('target', axis='columns')\n",
        "y = df.target\n",
        "\n",
        "# Split data into training and testing sets\n",
        "X_train, X_test, y_train, y_test = train_test_split(X, y, test_size=0.2, random_state=42)\n"
      ]
    },
    {
      "cell_type": "code",
      "source": [
        "from sklearn.linear_model import LogisticRegression\n",
        "from sklearn.tree import DecisionTreeClassifier\n",
        "from sklearn.ensemble import RandomForestClassifier\n",
        "from sklearn.svm import SVC\n",
        "\n",
        "# Initialize classifiers\n",
        "classifiers = {\n",
        "    'Logistic Regression': LogisticRegression(max_iter=10000),\n",
        "    'Decision Tree': DecisionTreeClassifier(),\n",
        "    'Random Forest': RandomForestClassifier(n_estimators=100),\n",
        "    'SVM': SVC()\n",
        "}\n",
        "\n",
        "# Train all classifiers\n",
        "for clf_name, clf in classifiers.items():\n",
        "    print(f\"Training {clf_name}...\")\n",
        "    clf.fit(X_train, y_train)\n",
        "    print(f\"  {clf_name} trained.\")\n",
        "\n",
        "# Evaluate classifiers\n",
        "results = {}\n",
        "for clf_name, clf in classifiers.items():\n",
        "    score = clf.score(X_test, y_test)\n",
        "    results[clf_name] = score\n",
        "    print(f\"{clf_name} accuracy: {score}\")\n"
      ],
      "metadata": {
        "colab": {
          "base_uri": "https://localhost:8080/"
        },
        "id": "HSL6cbNPmevG",
        "outputId": "07ba13f4-78fa-41df-fcde-d83be9f9524c"
      },
      "execution_count": 2,
      "outputs": [
        {
          "output_type": "stream",
          "name": "stdout",
          "text": [
            "Training Logistic Regression...\n",
            "  Logistic Regression trained.\n",
            "Training Decision Tree...\n",
            "  Decision Tree trained.\n",
            "Training Random Forest...\n",
            "  Random Forest trained.\n",
            "Training SVM...\n",
            "  SVM trained.\n",
            "Logistic Regression accuracy: 0.9722222222222222\n",
            "Decision Tree accuracy: 0.8583333333333333\n",
            "Random Forest accuracy: 0.9694444444444444\n",
            "SVM accuracy: 0.9861111111111112\n"
          ]
        }
      ]
    },
    {
      "cell_type": "code",
      "source": [
        "# Make predictions\n",
        "predictions = {}\n",
        "for clf_name, clf in classifiers.items():\n",
        "    y_pred = clf.predict(X_test)\n",
        "    predictions[clf_name] = y_pred\n",
        "\n",
        "# Print predictions (example)\n",
        "for clf_name, y_pred in predictions.items():\n",
        "    print(f\"{clf_name} predictions:\")\n",
        "    print(y_pred[:10])  # Print first 10 predictions\n",
        "    print()\n"
      ],
      "metadata": {
        "colab": {
          "base_uri": "https://localhost:8080/"
        },
        "id": "DUDkmm2qmj8a",
        "outputId": "d9fc5101-833b-4d18-f6df-c3af6d5ce2f4"
      },
      "execution_count": 3,
      "outputs": [
        {
          "output_type": "stream",
          "name": "stdout",
          "text": [
            "Logistic Regression predictions:\n",
            "[6 9 3 7 2 1 5 2 5 2]\n",
            "\n",
            "Decision Tree predictions:\n",
            "[6 9 3 7 2 1 5 3 5 7]\n",
            "\n",
            "Random Forest predictions:\n",
            "[6 9 3 7 2 1 5 2 5 2]\n",
            "\n",
            "SVM predictions:\n",
            "[6 9 3 7 2 1 5 2 5 2]\n",
            "\n"
          ]
        }
      ]
    },
    {
      "cell_type": "code",
      "source": [],
      "metadata": {
        "id": "T6oL9HL6mnHW"
      },
      "execution_count": null,
      "outputs": []
    }
  ]
}